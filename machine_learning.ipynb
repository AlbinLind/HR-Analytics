{
 "cells": [
  {
   "cell_type": "code",
   "execution_count": 34,
   "metadata": {},
   "outputs": [],
   "source": [
    "import pandas as pd\n",
    "from sklearn.metrics import accuracy_score\n",
    "from sklearn.linear_model import LogisticRegression\n",
    "from sklearn.model_selection import train_test_split\n",
    "from sklearn.preprocessing import PolynomialFeatures\n",
    "\n",
    "data = pd.read_csv(\"data.csv\", index_col=[\"Unnamed: 0\"])\n",
    "X = data[\n",
    "    [\n",
    "        \"PerfScore\",\n",
    "        \"FromDiversityJobFair\",\n",
    "        \"Salary\",\n",
    "        \"PositionID\",\n",
    "        \"EngagementSurvey\",\n",
    "        \"EmpSatisfaction\",\n",
    "        \"SpecialProjectsCount\",\n",
    "        \"ManPos\",\n",
    "        \"TechLev\",\n",
    "        \"JobStr\",\n",
    "        \"AssColl\",\n",
    "        \"AssSelf\",\n",
    "        \"AssLead\",\n",
    "        \"TeamIden\",\n",
    "        \"OrgIden\",\n",
    "        \"ConHour\",\n",
    "        \"CarOpp\",\n",
    "        \"PsySafe\",\n",
    "        \"Voice\",\n",
    "        \"Trust\",\n",
    "        \"OCB\",\n",
    "    ]\n",
    "]\n",
    "y = data[\"Termd\"]\n",
    "\n",
    "pf = PolynomialFeatures()\n",
    "# X = pf.fit_transform(X)\n",
    "\n",
    "# logr = LogisticRegression()\n",
    "# logr.fit(X_train, y_train)\n",
    "# logr.score(X_test, y_test)"
   ]
  },
  {
   "cell_type": "code",
   "execution_count": 35,
   "metadata": {},
   "outputs": [
    {
     "name": "stdout",
     "output_type": "stream",
     "text": [
      "0.3145\n",
      "0.4815 162\n"
     ]
    }
   ],
   "source": [
    "from sklearn.utils import resample\n",
    "import numpy as np\n",
    "\n",
    "X_train, X_test, y_train, y_test = train_test_split(X, y, test_size=0.2, random_state=100)\n",
    "\n",
    "X_train = np.array(X_train)\n",
    "y_train = np.array(y_train)\n",
    "print(round(sum(y_train) / len(y_train),4))\n",
    "\n",
    "while sum(y_train) / len(y_train) < 0.48:\n",
    "    i = np.random.choice(np.where(y_train == 0)[0])\n",
    "    X_train = np.delete(X_train, [i], axis=0)\n",
    "    y_train = np.delete(y_train, i, axis=0)\n",
    "\n",
    "print(round(sum(y_train) / len(y_train),4), len(y_train))"
   ]
  },
  {
   "cell_type": "code",
   "execution_count": 36,
   "metadata": {},
   "outputs": [
    {
     "data": {
      "text/html": [
       "<style>#sk-container-id-9 {color: black;background-color: white;}#sk-container-id-9 pre{padding: 0;}#sk-container-id-9 div.sk-toggleable {background-color: white;}#sk-container-id-9 label.sk-toggleable__label {cursor: pointer;display: block;width: 100%;margin-bottom: 0;padding: 0.3em;box-sizing: border-box;text-align: center;}#sk-container-id-9 label.sk-toggleable__label-arrow:before {content: \"▸\";float: left;margin-right: 0.25em;color: #696969;}#sk-container-id-9 label.sk-toggleable__label-arrow:hover:before {color: black;}#sk-container-id-9 div.sk-estimator:hover label.sk-toggleable__label-arrow:before {color: black;}#sk-container-id-9 div.sk-toggleable__content {max-height: 0;max-width: 0;overflow: hidden;text-align: left;background-color: #f0f8ff;}#sk-container-id-9 div.sk-toggleable__content pre {margin: 0.2em;color: black;border-radius: 0.25em;background-color: #f0f8ff;}#sk-container-id-9 input.sk-toggleable__control:checked~div.sk-toggleable__content {max-height: 200px;max-width: 100%;overflow: auto;}#sk-container-id-9 input.sk-toggleable__control:checked~label.sk-toggleable__label-arrow:before {content: \"▾\";}#sk-container-id-9 div.sk-estimator input.sk-toggleable__control:checked~label.sk-toggleable__label {background-color: #d4ebff;}#sk-container-id-9 div.sk-label input.sk-toggleable__control:checked~label.sk-toggleable__label {background-color: #d4ebff;}#sk-container-id-9 input.sk-hidden--visually {border: 0;clip: rect(1px 1px 1px 1px);clip: rect(1px, 1px, 1px, 1px);height: 1px;margin: -1px;overflow: hidden;padding: 0;position: absolute;width: 1px;}#sk-container-id-9 div.sk-estimator {font-family: monospace;background-color: #f0f8ff;border: 1px dotted black;border-radius: 0.25em;box-sizing: border-box;margin-bottom: 0.5em;}#sk-container-id-9 div.sk-estimator:hover {background-color: #d4ebff;}#sk-container-id-9 div.sk-parallel-item::after {content: \"\";width: 100%;border-bottom: 1px solid gray;flex-grow: 1;}#sk-container-id-9 div.sk-label:hover label.sk-toggleable__label {background-color: #d4ebff;}#sk-container-id-9 div.sk-serial::before {content: \"\";position: absolute;border-left: 1px solid gray;box-sizing: border-box;top: 0;bottom: 0;left: 50%;z-index: 0;}#sk-container-id-9 div.sk-serial {display: flex;flex-direction: column;align-items: center;background-color: white;padding-right: 0.2em;padding-left: 0.2em;position: relative;}#sk-container-id-9 div.sk-item {position: relative;z-index: 1;}#sk-container-id-9 div.sk-parallel {display: flex;align-items: stretch;justify-content: center;background-color: white;position: relative;}#sk-container-id-9 div.sk-item::before, #sk-container-id-9 div.sk-parallel-item::before {content: \"\";position: absolute;border-left: 1px solid gray;box-sizing: border-box;top: 0;bottom: 0;left: 50%;z-index: -1;}#sk-container-id-9 div.sk-parallel-item {display: flex;flex-direction: column;z-index: 1;position: relative;background-color: white;}#sk-container-id-9 div.sk-parallel-item:first-child::after {align-self: flex-end;width: 50%;}#sk-container-id-9 div.sk-parallel-item:last-child::after {align-self: flex-start;width: 50%;}#sk-container-id-9 div.sk-parallel-item:only-child::after {width: 0;}#sk-container-id-9 div.sk-dashed-wrapped {border: 1px dashed gray;margin: 0 0.4em 0.5em 0.4em;box-sizing: border-box;padding-bottom: 0.4em;background-color: white;}#sk-container-id-9 div.sk-label label {font-family: monospace;font-weight: bold;display: inline-block;line-height: 1.2em;}#sk-container-id-9 div.sk-label-container {text-align: center;}#sk-container-id-9 div.sk-container {/* jupyter's `normalize.less` sets `[hidden] { display: none; }` but bootstrap.min.css set `[hidden] { display: none !important; }` so we also need the `!important` here to be able to override the default hidden behavior on the sphinx rendered scikit-learn.org. See: https://github.com/scikit-learn/scikit-learn/issues/21755 */display: inline-block !important;position: relative;}#sk-container-id-9 div.sk-text-repr-fallback {display: none;}</style><div id=\"sk-container-id-9\" class=\"sk-top-container\"><div class=\"sk-text-repr-fallback\"><pre>GridSearchCV(estimator=LogisticRegression(penalty=&#x27;l1&#x27;, solver=&#x27;liblinear&#x27;),\n",
       "             n_jobs=3,\n",
       "             param_grid={&#x27;C&#x27;: array([1.00000000e-04, 1.09715619e-04, 1.20375170e-04, 1.32070362e-04,\n",
       "       1.44901815e-04, 1.58979923e-04, 1.74425806e-04, 1.91372352e-04,\n",
       "       2.09965360e-04, 2.30364794e-04, 2.52746159e-04, 2.77302012e-04,\n",
       "       3.04243618e-04, 3.33802767e-04, 3.66233771e-04, 4.01815648e-04,\n",
       "       4.4...\n",
       "       9.84665203e+00, 1.08033152e+01, 1.18529241e+01, 1.30045090e+01,\n",
       "       1.42679775e+01, 1.56541998e+01, 1.71751022e+01, 1.88437696e+01,\n",
       "       2.06745584e+01, 2.26832196e+01, 2.48870348e+01, 2.73049642e+01,\n",
       "       2.99578103e+01, 3.28683970e+01, 3.60617651e+01, 3.95653887e+01,\n",
       "       4.34094109e+01, 4.76269038e+01, 5.22541521e+01, 5.73309663e+01,\n",
       "       6.29010244e+01, 6.90122480e+01, 7.57172149e+01, 8.30736107e+01,\n",
       "       9.11447260e+01, 1.00000000e+02])})</pre><b>In a Jupyter environment, please rerun this cell to show the HTML representation or trust the notebook. <br />On GitHub, the HTML representation is unable to render, please try loading this page with nbviewer.org.</b></div><div class=\"sk-container\" hidden><div class=\"sk-item sk-dashed-wrapped\"><div class=\"sk-label-container\"><div class=\"sk-label sk-toggleable\"><input class=\"sk-toggleable__control sk-hidden--visually\" id=\"sk-estimator-id-25\" type=\"checkbox\" ><label for=\"sk-estimator-id-25\" class=\"sk-toggleable__label sk-toggleable__label-arrow\">GridSearchCV</label><div class=\"sk-toggleable__content\"><pre>GridSearchCV(estimator=LogisticRegression(penalty=&#x27;l1&#x27;, solver=&#x27;liblinear&#x27;),\n",
       "             n_jobs=3,\n",
       "             param_grid={&#x27;C&#x27;: array([1.00000000e-04, 1.09715619e-04, 1.20375170e-04, 1.32070362e-04,\n",
       "       1.44901815e-04, 1.58979923e-04, 1.74425806e-04, 1.91372352e-04,\n",
       "       2.09965360e-04, 2.30364794e-04, 2.52746159e-04, 2.77302012e-04,\n",
       "       3.04243618e-04, 3.33802767e-04, 3.66233771e-04, 4.01815648e-04,\n",
       "       4.4...\n",
       "       9.84665203e+00, 1.08033152e+01, 1.18529241e+01, 1.30045090e+01,\n",
       "       1.42679775e+01, 1.56541998e+01, 1.71751022e+01, 1.88437696e+01,\n",
       "       2.06745584e+01, 2.26832196e+01, 2.48870348e+01, 2.73049642e+01,\n",
       "       2.99578103e+01, 3.28683970e+01, 3.60617651e+01, 3.95653887e+01,\n",
       "       4.34094109e+01, 4.76269038e+01, 5.22541521e+01, 5.73309663e+01,\n",
       "       6.29010244e+01, 6.90122480e+01, 7.57172149e+01, 8.30736107e+01,\n",
       "       9.11447260e+01, 1.00000000e+02])})</pre></div></div></div><div class=\"sk-parallel\"><div class=\"sk-parallel-item\"><div class=\"sk-item\"><div class=\"sk-label-container\"><div class=\"sk-label sk-toggleable\"><input class=\"sk-toggleable__control sk-hidden--visually\" id=\"sk-estimator-id-26\" type=\"checkbox\" ><label for=\"sk-estimator-id-26\" class=\"sk-toggleable__label sk-toggleable__label-arrow\">estimator: LogisticRegression</label><div class=\"sk-toggleable__content\"><pre>LogisticRegression(penalty=&#x27;l1&#x27;, solver=&#x27;liblinear&#x27;)</pre></div></div></div><div class=\"sk-serial\"><div class=\"sk-item\"><div class=\"sk-estimator sk-toggleable\"><input class=\"sk-toggleable__control sk-hidden--visually\" id=\"sk-estimator-id-27\" type=\"checkbox\" ><label for=\"sk-estimator-id-27\" class=\"sk-toggleable__label sk-toggleable__label-arrow\">LogisticRegression</label><div class=\"sk-toggleable__content\"><pre>LogisticRegression(penalty=&#x27;l1&#x27;, solver=&#x27;liblinear&#x27;)</pre></div></div></div></div></div></div></div></div></div></div>"
      ],
      "text/plain": [
       "GridSearchCV(estimator=LogisticRegression(penalty='l1', solver='liblinear'),\n",
       "             n_jobs=3,\n",
       "             param_grid={'C': array([1.00000000e-04, 1.09715619e-04, 1.20375170e-04, 1.32070362e-04,\n",
       "       1.44901815e-04, 1.58979923e-04, 1.74425806e-04, 1.91372352e-04,\n",
       "       2.09965360e-04, 2.30364794e-04, 2.52746159e-04, 2.77302012e-04,\n",
       "       3.04243618e-04, 3.33802767e-04, 3.66233771e-04, 4.01815648e-04,\n",
       "       4.4...\n",
       "       9.84665203e+00, 1.08033152e+01, 1.18529241e+01, 1.30045090e+01,\n",
       "       1.42679775e+01, 1.56541998e+01, 1.71751022e+01, 1.88437696e+01,\n",
       "       2.06745584e+01, 2.26832196e+01, 2.48870348e+01, 2.73049642e+01,\n",
       "       2.99578103e+01, 3.28683970e+01, 3.60617651e+01, 3.95653887e+01,\n",
       "       4.34094109e+01, 4.76269038e+01, 5.22541521e+01, 5.73309663e+01,\n",
       "       6.29010244e+01, 6.90122480e+01, 7.57172149e+01, 8.30736107e+01,\n",
       "       9.11447260e+01, 1.00000000e+02])})"
      ]
     },
     "execution_count": 36,
     "metadata": {},
     "output_type": "execute_result"
    }
   ],
   "source": [
    "from sklearn.model_selection import GridSearchCV\n",
    "\n",
    "param_grid = {\"C\": np.logspace(-4,2,150)}\n",
    "\n",
    "gcv = GridSearchCV(LogisticRegression(penalty=\"l1\", solver=\"liblinear\"), param_grid, n_jobs=3)\n",
    "gcv.fit(X_train, y_train)"
   ]
  },
  {
   "cell_type": "code",
   "execution_count": 37,
   "metadata": {},
   "outputs": [
    {
     "name": "stdout",
     "output_type": "stream",
     "text": [
      "[[-1.652322e+00  0.000000e+00  1.000000e-05  6.373500e-02  4.541433e+00\n",
      "   3.959795e+00 -7.456400e-02  0.000000e+00 -2.351300e-02  2.717040e-01\n",
      "   0.000000e+00 -1.159255e+00 -2.096270e-01 -3.647390e-01 -5.062650e-01\n",
      "   2.477600e-02 -3.176833e+00 -3.235683e+00 -7.109880e-01 -1.447065e+00\n",
      "  -1.468004e+00]]\n",
      "0.9134469696969697\n"
     ]
    },
    {
     "name": "stderr",
     "output_type": "stream",
     "text": [
      "C:\\Users\\Albin\\AppData\\Local\\Packages\\PythonSoftwareFoundation.Python.3.11_qbz5n2kfra8p0\\LocalCache\\local-packages\\Python311\\site-packages\\sklearn\\base.py:402: UserWarning: X has feature names, but LogisticRegression was fitted without feature names\n",
      "  warnings.warn(\n"
     ]
    },
    {
     "data": {
      "text/plain": [
       "0.9615384615384616"
      ]
     },
     "execution_count": 37,
     "metadata": {},
     "output_type": "execute_result"
    }
   ],
   "source": [
    "from sklearn.metrics import recall_score\n",
    "\n",
    "print(np.round(gcv.best_estimator_.coef_, 6))\n",
    "print(gcv.best_score_)\n",
    "y_hat = gcv.best_estimator_.predict(X_test)\n",
    "recall_score(y_test, y_hat)"
   ]
  },
  {
   "cell_type": "code",
   "execution_count": 40,
   "metadata": {},
   "outputs": [
    {
     "name": "stdout",
     "output_type": "stream",
     "text": [
      "0.8638257575757576\n"
     ]
    },
    {
     "name": "stderr",
     "output_type": "stream",
     "text": [
      "C:\\Users\\Albin\\AppData\\Local\\Packages\\PythonSoftwareFoundation.Python.3.11_qbz5n2kfra8p0\\LocalCache\\local-packages\\Python311\\site-packages\\sklearn\\base.py:402: UserWarning: X has feature names, but RandomForestClassifier was fitted without feature names\n",
      "  warnings.warn(\n"
     ]
    },
    {
     "data": {
      "text/plain": [
       "0.8461538461538461"
      ]
     },
     "execution_count": 40,
     "metadata": {},
     "output_type": "execute_result"
    }
   ],
   "source": [
    "from sklearn.ensemble import RandomForestClassifier\n",
    "\n",
    "gcv = GridSearchCV(RandomForestClassifier(n_estimators=500), {\"criterion\": [\"gini\", \"entropy\", \"log_loss\"],\"min_samples_split\": [2,4,6], \"min_samples_leaf\": [1,2,3,4], \"max_features\": [None, \"log2\", \"sqrt\"]})\n",
    "gcv.fit(X_train, y_train)\n",
    "print(gcv.best_score_)\n",
    "y_hat = gcv.best_estimator_.predict(X_test)\n",
    "recall_score(y_test, y_hat)"
   ]
  }
 ],
 "metadata": {
  "kernelspec": {
   "display_name": "Python 3",
   "language": "python",
   "name": "python3"
  },
  "language_info": {
   "codemirror_mode": {
    "name": "ipython",
    "version": 3
   },
   "file_extension": ".py",
   "mimetype": "text/x-python",
   "name": "python",
   "nbconvert_exporter": "python",
   "pygments_lexer": "ipython3",
   "version": "3.11.2"
  },
  "orig_nbformat": 4,
  "vscode": {
   "interpreter": {
    "hash": "e0e68e1905cf76410184eff3c32cdb9c73fe6afd1987724612fb8659e31ade06"
   }
  }
 },
 "nbformat": 4,
 "nbformat_minor": 2
}
