{
 "cells": [
  {
   "cell_type": "code",
   "execution_count": 2,
   "metadata": {},
   "outputs": [],
   "source": [
    "import pandas as pd\n",
    "\n",
    "data_terminated = pd.read_csv(\"terminated_data.csv\",index_col=[\"Unnamed: 0\"])\n",
    "data_employed = pd.read_csv(\"employed_data.csv\", index_col=[\"Unnamed: 0\"])"
   ]
  },
  {
   "cell_type": "code",
   "execution_count": 3,
   "metadata": {},
   "outputs": [
    {
     "name": "stdout",
     "output_type": "stream",
     "text": [
      "PerfScore    2.653846\n",
      "AssColl      2.461538\n",
      "AssSelf      2.500000\n",
      "AssLead      2.490385\n",
      "dtype: float64\n",
      "PerfScore    3.135266\n",
      "AssColl      3.135266\n",
      "AssSelf      3.338164\n",
      "AssLead      3.304348\n",
      "dtype: float64\n",
      "PerfScore    0.772956\n",
      "AssColl      0.902242\n",
      "AssSelf      0.995134\n",
      "AssLead      0.995087\n",
      "dtype: float64\n",
      "PerfScore    0.830874\n",
      "AssColl      0.898252\n",
      "AssSelf      0.903952\n",
      "AssLead      1.014042\n",
      "dtype: float64\n",
      "104 207\n"
     ]
    }
   ],
   "source": [
    "print(data_terminated[[\"PerfScore\",\"AssColl\", \"AssSelf\", \"AssLead\"]].mean())\n",
    "print(data_employed[[\"PerfScore\", \"AssColl\", \"AssSelf\", \"AssLead\"]].mean())\n",
    "print(data_terminated[[\"PerfScore\",\"AssColl\", \"AssSelf\", \"AssLead\"]].std())\n",
    "print(data_employed[[\"PerfScore\", \"AssColl\", \"AssSelf\", \"AssLead\"]].std())\n",
    "print(len(data_terminated), len(data_employed))"
   ]
  },
  {
   "cell_type": "code",
   "execution_count": 20,
   "metadata": {},
   "outputs": [
    {
     "name": "stdout",
     "output_type": "stream",
     "text": [
      "H0: mean(x_l) - mean(x_r) = 0: False \n",
      "p-value: 0.0\n",
      "H0: mean(x_l) - mean(x_r) = 0: False \n",
      "p-value: 0.0\n",
      "H0: mean(x_l) - mean(x_r) = 0: False \n",
      "p-value: 0.0\n",
      "H0: mean(x_l) - mean(x_r) = 0: False \n",
      "p-value: 0.0\n"
     ]
    }
   ],
   "source": [
    "import scipy\n",
    "import numpy as np\n",
    "\n",
    "def test_difference(left, right, alpha):\n",
    "    diff = left.mean() - right.mean()\n",
    "    sd_l = left.std()\n",
    "    sd_r = right.std()\n",
    "    n_l = len(left)\n",
    "    n_r = len(right)\n",
    "    dof = n_l + n_r - 2\n",
    "\n",
    "    t_stat = diff / np.sqrt(sd_l **2 / n_l + sd_r ** 2 / n_r)\n",
    "\n",
    "    t_critical = scipy.stats.t.ppf(alpha/2, dof)\n",
    "    print(\"H0: mean(x_l) - mean(x_r) = 0:\", abs(t_stat) < t_critical, \"\\np-value:\", round(2*scipy.stats.t.cdf(-abs(t_stat), dof), 5))\n",
    "\n",
    "test_difference(data_terminated[\"PerfScore\"], data_employed[\"PerfScore\"], 0.05)\n",
    "test_difference(data_terminated[\"AssColl\"], data_employed[\"AssColl\"], 0.05)\n",
    "test_difference(data_terminated[\"AssSelf\"], data_employed[\"AssSelf\"], 0.05)\n",
    "test_difference(data_terminated[\"AssLead\"], data_employed[\"AssLead\"], 0.05)"
   ]
  },
  {
   "cell_type": "code",
   "execution_count": 21,
   "metadata": {},
   "outputs": [
    {
     "data": {
      "text/plain": [
       "<AxesSubplot: >"
      ]
     },
     "execution_count": 21,
     "metadata": {},
     "output_type": "execute_result"
    },
    {
     "data": {
      "image/png": "[encoded data removed]",
      "text/plain": [
       "<Figure size 640x480 with 1 Axes>"
      ]
     },
     "metadata": {},
     "output_type": "display_data"
    }
   ],
   "source": [
    "data_employed[\"AssColl\"].hist()"
   ]
  }
 ],
 "metadata": {
  "kernelspec": {
   "display_name": "Python 3",
   "language": "python",
   "name": "python3"
  },
  "language_info": {
   "codemirror_mode": {
    "name": "ipython",
    "version": 3
   },
   "file_extension": ".py",
   "mimetype": "text/x-python",
   "name": "python",
   "nbconvert_exporter": "python",
   "pygments_lexer": "ipython3",
   "version": "3.11.2"
  },
  "orig_nbformat": 4,
  "vscode": {
   "interpreter": {
    "hash": "e0e68e1905cf76410184eff3c32cdb9c73fe6afd1987724612fb8659e31ade06"
   }
  }
 },
 "nbformat": 4,
 "nbformat_minor": 2
}
